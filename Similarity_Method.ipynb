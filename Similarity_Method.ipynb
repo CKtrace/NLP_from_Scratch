{
 "cells": [
  {
   "cell_type": "code",
   "execution_count": 1,
   "id": "25970cbb-7bc9-413e-9cb2-1cdca40c5507",
   "metadata": {
    "scrolled": true
   },
   "outputs": [
    {
     "name": "stdout",
     "output_type": "stream",
     "text": [
      "Doc1 & Doc2 Similarity : 0.6666666666666667\n",
      "Doc1 & Doc3 Similarity : 0.6666666666666667\n",
      "Doc2 & Doc3 Similarity : 1.0000000000000002\n"
     ]
    }
   ],
   "source": [
    "import numpy as np\n",
    "from numpy import dot\n",
    "from numpy.linalg import norm\n",
    "\n",
    "def cos_sim(A, B):\n",
    "    return dot(A, B)/(norm(A) * norm(B))\n",
    "\n",
    "doc1 = np.array([0, 1, 1, 1])\n",
    "doc2 = np.array([1, 0, 1, 1])\n",
    "doc3 = np.array([2, 0, 2, 2])\n",
    "\n",
    "print(f\"Doc1 & Doc2 Similarity : {cos_sim(doc1, doc2)}\")\n",
    "print(f\"Doc1 & Doc3 Similarity : {cos_sim(doc1, doc3)}\")\n",
    "print(f\"Doc2 & Doc3 Similarity : {cos_sim(doc2, doc3)}\")"
   ]
  },
  {
   "cell_type": "markdown",
   "id": "540a0d83-edaf-4819-bebc-ad10838f6faf",
   "metadata": {},
   "source": [
    "## Recommendation System Implementation using Similarity"
   ]
  },
  {
   "cell_type": "code",
   "execution_count": 21,
   "id": "778a0d7f-62e8-488d-a80e-9e799a8365a9",
   "metadata": {},
   "outputs": [
    {
     "data": {
      "text/html": [
       "<div>\n",
       "<style scoped>\n",
       "    .dataframe tbody tr th:only-of-type {\n",
       "        vertical-align: middle;\n",
       "    }\n",
       "\n",
       "    .dataframe tbody tr th {\n",
       "        vertical-align: top;\n",
       "    }\n",
       "\n",
       "    .dataframe thead th {\n",
       "        text-align: right;\n",
       "    }\n",
       "</style>\n",
       "<table border=\"1\" class=\"dataframe\">\n",
       "  <thead>\n",
       "    <tr style=\"text-align: right;\">\n",
       "      <th></th>\n",
       "      <th>adult</th>\n",
       "      <th>belongs_to_collection</th>\n",
       "      <th>budget</th>\n",
       "      <th>genres</th>\n",
       "      <th>homepage</th>\n",
       "      <th>id</th>\n",
       "      <th>imdb_id</th>\n",
       "      <th>original_language</th>\n",
       "      <th>original_title</th>\n",
       "      <th>overview</th>\n",
       "      <th>popularity</th>\n",
       "      <th>poster_path</th>\n",
       "      <th>production_companies</th>\n",
       "      <th>production_countries</th>\n",
       "      <th>release_date</th>\n",
       "      <th>revenue</th>\n",
       "      <th>runtime</th>\n",
       "      <th>spoken_languages</th>\n",
       "      <th>status</th>\n",
       "      <th>tagline</th>\n",
       "      <th>title</th>\n",
       "      <th>video</th>\n",
       "      <th>vote_average</th>\n",
       "      <th>vote_count</th>\n",
       "    </tr>\n",
       "  </thead>\n",
       "  <tbody>\n",
       "    <tr>\n",
       "      <th>0</th>\n",
       "      <td>False</td>\n",
       "      <td>{'id': 10194, 'name': 'Toy Story Collection', ...</td>\n",
       "      <td>30000000</td>\n",
       "      <td>[{'id': 16, 'name': 'Animation'}, {'id': 35, '...</td>\n",
       "      <td>http://toystory.disney.com/toy-story</td>\n",
       "      <td>862</td>\n",
       "      <td>tt0114709</td>\n",
       "      <td>en</td>\n",
       "      <td>Toy Story</td>\n",
       "      <td>Led by Woody, Andy's toys live happily in his ...</td>\n",
       "      <td>21.946943</td>\n",
       "      <td>/rhIRbceoE9lR4veEXuwCC2wARtG.jpg</td>\n",
       "      <td>[{'name': 'Pixar Animation Studios', 'id': 3}]</td>\n",
       "      <td>[{'iso_3166_1': 'US', 'name': 'United States o...</td>\n",
       "      <td>1995-10-30</td>\n",
       "      <td>373554033.0</td>\n",
       "      <td>81.0</td>\n",
       "      <td>[{'iso_639_1': 'en', 'name': 'English'}]</td>\n",
       "      <td>Released</td>\n",
       "      <td>NaN</td>\n",
       "      <td>Toy Story</td>\n",
       "      <td>False</td>\n",
       "      <td>7.7</td>\n",
       "      <td>5415.0</td>\n",
       "    </tr>\n",
       "    <tr>\n",
       "      <th>1</th>\n",
       "      <td>False</td>\n",
       "      <td>NaN</td>\n",
       "      <td>65000000</td>\n",
       "      <td>[{'id': 12, 'name': 'Adventure'}, {'id': 14, '...</td>\n",
       "      <td>NaN</td>\n",
       "      <td>8844</td>\n",
       "      <td>tt0113497</td>\n",
       "      <td>en</td>\n",
       "      <td>Jumanji</td>\n",
       "      <td>When siblings Judy and Peter discover an encha...</td>\n",
       "      <td>17.015539</td>\n",
       "      <td>/vzmL6fP7aPKNKPRTFnZmiUfciyV.jpg</td>\n",
       "      <td>[{'name': 'TriStar Pictures', 'id': 559}, {'na...</td>\n",
       "      <td>[{'iso_3166_1': 'US', 'name': 'United States o...</td>\n",
       "      <td>1995-12-15</td>\n",
       "      <td>262797249.0</td>\n",
       "      <td>104.0</td>\n",
       "      <td>[{'iso_639_1': 'en', 'name': 'English'}, {'iso...</td>\n",
       "      <td>Released</td>\n",
       "      <td>Roll the dice and unleash the excitement!</td>\n",
       "      <td>Jumanji</td>\n",
       "      <td>False</td>\n",
       "      <td>6.9</td>\n",
       "      <td>2413.0</td>\n",
       "    </tr>\n",
       "  </tbody>\n",
       "</table>\n",
       "</div>"
      ],
      "text/plain": [
       "   adult                              belongs_to_collection    budget  ...  video vote_average vote_count\n",
       "0  False  {'id': 10194, 'name': 'Toy Story Collection', ...  30000000  ...  False          7.7     5415.0\n",
       "1  False                                                NaN  65000000  ...  False          6.9     2413.0\n",
       "\n",
       "[2 rows x 24 columns]"
      ]
     },
     "execution_count": 21,
     "metadata": {},
     "output_type": "execute_result"
    }
   ],
   "source": [
    "import pandas as pd\n",
    "from sklearn.feature_extraction.text import TfidfVectorizer\n",
    "from sklearn.metrics.pairwise import cosine_similarity\n",
    "\n",
    "data = pd.read_csv(\"movies_metadata.csv\", low_memory=False)\n",
    "data.head(2)"
   ]
  },
  {
   "cell_type": "code",
   "execution_count": 9,
   "id": "0a4de3c5-ee06-4b6f-b793-0e29bf0a8689",
   "metadata": {},
   "outputs": [
    {
     "name": "stdout",
     "output_type": "stream",
     "text": [
      "overview 열의 결측값의 수 : 135\n",
      "overview 열의 결측값의 수 : 0\n"
     ]
    }
   ],
   "source": [
    "data = data.head(20000)\n",
    "print(f\"overview 열의 결측값의 수 : {data['overview'].isnull().sum()}\")\n",
    "data['overview'] = data['overview'].fillna('')\n",
    "print(f\"overview 열의 결측값의 수 : {data['overview'].isnull().sum()}\")"
   ]
  },
  {
   "cell_type": "code",
   "execution_count": 22,
   "id": "3ac41e4d-e870-4a2b-af4e-186825b94ef5",
   "metadata": {},
   "outputs": [
    {
     "data": {
      "text/plain": [
       "\"Led by Woody, Andy's toys live happily in his room until Andy's birthday brings Buzz Lightyear onto the scene. Afraid of losing his place in Andy's heart, Woody plots against Buzz. But when circumstances separate Buzz and Woody from their owner, the duo eventually learns to put aside their differences.\""
      ]
     },
     "execution_count": 22,
     "metadata": {},
     "output_type": "execute_result"
    }
   ],
   "source": [
    "data['overview'][0]"
   ]
  },
  {
   "cell_type": "code",
   "execution_count": 10,
   "id": "063d6395-56aa-4df6-a4c0-dffcd07c69cb",
   "metadata": {},
   "outputs": [
    {
     "name": "stdout",
     "output_type": "stream",
     "text": [
      "TF-IDF's Matrix Size : (20000, 47487)\n"
     ]
    }
   ],
   "source": [
    "tfidf = TfidfVectorizer(stop_words='english')\n",
    "tfidf_matrix = tfidf.fit_transform(data['overview'])\n",
    "print(f\"TF-IDF's Matrix Size : {tfidf_matrix.shape}\")"
   ]
  },
  {
   "cell_type": "code",
   "execution_count": 18,
   "id": "6d91fc7d-40ab-4bae-9d2d-890d97ce6d99",
   "metadata": {},
   "outputs": [
    {
     "name": "stdout",
     "output_type": "stream",
     "text": [
      "Cosine Similarity Result : (20000, 20000)\n",
      "[[1.         0.01575748 0.         ... 0.         0.         0.        ]\n",
      " [0.01575748 1.         0.04907345 ... 0.         0.         0.        ]\n",
      " [0.         0.04907345 1.         ... 0.         0.         0.        ]\n",
      " ...\n",
      " [0.         0.         0.         ... 1.         0.         0.08375766]\n",
      " [0.         0.         0.         ... 0.         1.         0.        ]\n",
      " [0.         0.         0.         ... 0.08375766 0.         1.        ]]\n"
     ]
    }
   ],
   "source": [
    "cosine_sim = cosine_similarity(tfidf_matrix, tfidf_matrix)\n",
    "print(f\"Cosine Similarity Result : {cosine_sim.shape}\")\n",
    "print(cosine_sim)"
   ]
  },
  {
   "cell_type": "code",
   "execution_count": 13,
   "id": "3a8a9098-b1c3-41ce-8e5c-93d8d1d6b251",
   "metadata": {},
   "outputs": [
    {
     "name": "stdout",
     "output_type": "stream",
     "text": [
      "4\n"
     ]
    }
   ],
   "source": [
    "title_to_index = dict(zip(data['title'], data.index))\n",
    "\n",
    "idx = title_to_index['Father of the Bride Part II']\n",
    "print(idx)"
   ]
  },
  {
   "cell_type": "code",
   "execution_count": 14,
   "id": "83b134b9-dc00-4f00-8c94-2d10828a6a1a",
   "metadata": {},
   "outputs": [],
   "source": [
    "def get_recommendations(title, cosine_sim=cosine_sim):\n",
    "    idx = title_to_index[title]\n",
    "\n",
    "    sim_scores = list(enumerate(cosine_sim[idx]))\n",
    "\n",
    "    sim_scores = sorted(sim_scores, key=lambda x: x[1], reverse=True)\n",
    "\n",
    "    movie_indices = [idx[0] for idx in sim_scores]\n",
    "\n",
    "    return data['title'].iloc[movie_indices]"
   ]
  },
  {
   "cell_type": "code",
   "execution_count": 15,
   "id": "6462216f-33cd-4e74-b636-6b1c704c4977",
   "metadata": {},
   "outputs": [
    {
     "data": {
      "text/plain": [
       "18252                                The Dark Knight Rises\n",
       "12481                                      The Dark Knight\n",
       "150                                         Batman Forever\n",
       "1328                                        Batman Returns\n",
       "15511                           Batman: Under the Red Hood\n",
       "                               ...                        \n",
       "19992                          How to Make Love to a Woman\n",
       "19994                               Violeta Went to Heaven\n",
       "19996                                           Versailles\n",
       "19998    Lotte Reiniger: Homage to the Inventor of the ...\n",
       "19999    RKO Production 601: The Making of 'Kong, the E...\n",
       "Name: title, Length: 20000, dtype: object"
      ]
     },
     "execution_count": 15,
     "metadata": {},
     "output_type": "execute_result"
    }
   ],
   "source": [
    "get_recommendations('The Dark Knight Rises')"
   ]
  },
  {
   "cell_type": "markdown",
   "id": "1891bf2e-2e01-4761-95a7-cc35cf44dc7f",
   "metadata": {},
   "source": [
    "### Euclide Distance -> 간단하게 두 점 사이의 거리를 구하는 공식에서 다차원"
   ]
  },
  {
   "cell_type": "code",
   "execution_count": 23,
   "id": "3f830f19-80d2-436c-89d7-6e7c5507f6f5",
   "metadata": {},
   "outputs": [
    {
     "name": "stdout",
     "output_type": "stream",
     "text": [
      "Doc1 & DocQ Distance 2.23606797749979\n",
      "Doc2 & DocQ Distance 3.1622776601683795\n",
      "Doc3 & DocQ Distance 2.449489742783178\n"
     ]
    }
   ],
   "source": [
    "import numpy as np\n",
    "\n",
    "def dist(x, y):\n",
    "    return np.sqrt(np.sum((x-y)**2))\n",
    "\n",
    "doc1 = np.array((2, 3, 0, 1))\n",
    "doc2 = np.array((1, 2, 3, 1))\n",
    "doc3 = np.array((2, 1, 2, 2))\n",
    "docQ = np.array((1, 1, 0, 1))\n",
    "\n",
    "print(f'Doc1 & DocQ Distance {dist(doc1, docQ)}')\n",
    "print(f'Doc2 & DocQ Distance {dist(doc2, docQ)}')\n",
    "print(f'Doc3 & DocQ Distance {dist(doc3, docQ)}')"
   ]
  },
  {
   "cell_type": "markdown",
   "id": "f990c693-950b-4f1b-b8a7-fb6f19139b7f",
   "metadata": {},
   "source": [
    "### Jaccard Similarity -> 합집합에서의 교집합의 비율"
   ]
  },
  {
   "cell_type": "code",
   "execution_count": 24,
   "id": "c9283725-917a-4998-9bbb-65ff541243f7",
   "metadata": {},
   "outputs": [
    {
     "name": "stdout",
     "output_type": "stream",
     "text": [
      "Doc1 : ['apple', 'banana', 'everyone', 'like', 'likey', 'watch', 'card', 'holder']\n",
      "Doc2 : ['apple', 'banana', 'coupon', 'passport', 'love', 'you']\n"
     ]
    }
   ],
   "source": [
    "doc1 = \"apple banana everyone like likey watch card holder\"\n",
    "doc2 = \"apple banana coupon passport love you\"\n",
    "\n",
    "tokenized_doc1 = doc1.split()\n",
    "tokenized_doc2 = doc2.split()\n",
    "\n",
    "print(f\"Doc1 : {tokenized_doc1}\")\n",
    "print(f\"Doc2 : {tokenized_doc2}\")"
   ]
  },
  {
   "cell_type": "code",
   "execution_count": 26,
   "id": "c83105a2-bde8-43c5-ab19-3ec569f1001d",
   "metadata": {},
   "outputs": [
    {
     "name": "stdout",
     "output_type": "stream",
     "text": [
      "Union of Doc1 & Doc2 : {'holder', 'passport', 'likey', 'coupon', 'apple', 'banana', 'watch', 'everyone', 'love', 'card', 'you', 'like'}\n",
      "Intersection of Doc1 & Doc2 : {'apple', 'banana'}\n"
     ]
    }
   ],
   "source": [
    "union = set(tokenized_doc1).union(set(tokenized_doc2))\n",
    "print(f\"Union of Doc1 & Doc2 : {union}\")\n",
    "\n",
    "intersection = set(tokenized_doc1).intersection(set(tokenized_doc2))\n",
    "print(f'Intersection of Doc1 & Doc2 : {intersection}')"
   ]
  },
  {
   "cell_type": "code",
   "execution_count": 27,
   "id": "f2fc4bef-cd77-4b39-be6d-3b628ddc023a",
   "metadata": {},
   "outputs": [
    {
     "name": "stdout",
     "output_type": "stream",
     "text": [
      "Jaccard Similarity : 0.16666666666666666\n"
     ]
    }
   ],
   "source": [
    "print(f\"Jaccard Similarity : {len(intersection)/len(union)}\")"
   ]
  }
 ],
 "metadata": {
  "kernelspec": {
   "display_name": "Python 3 (ipykernel)",
   "language": "python",
   "name": "python3"
  },
  "language_info": {
   "codemirror_mode": {
    "name": "ipython",
    "version": 3
   },
   "file_extension": ".py",
   "mimetype": "text/x-python",
   "name": "python",
   "nbconvert_exporter": "python",
   "pygments_lexer": "ipython3",
   "version": "3.9.21"
  }
 },
 "nbformat": 4,
 "nbformat_minor": 5
}
