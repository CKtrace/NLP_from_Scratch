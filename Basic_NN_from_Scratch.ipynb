{
 "cells": [
  {
   "cell_type": "markdown",
   "id": "7480fdd6-0d0f-4beb-8c81-20c0a5c53047",
   "metadata": {},
   "source": [
    "## Numpy ndarray"
   ]
  },
  {
   "cell_type": "code",
   "execution_count": 57,
   "id": "45f00265-9ec7-45b2-9e26-2ecb2e8eac28",
   "metadata": {},
   "outputs": [
    {
     "name": "stdout",
     "output_type": "stream",
     "text": [
      "<class 'numpy.ndarray'> (3,) 1\n",
      "(2, 3) 2\n"
     ]
    }
   ],
   "source": [
    "import numpy as np\n",
    "\n",
    "x = np.array([1, 2, 3])\n",
    "print(x.__class__, x.shape, x.ndim)\n",
    "\n",
    "W = np.array([[1, 2, 3], [4, 5, 6]])\n",
    "print(W.shape, W.ndim)"
   ]
  },
  {
   "cell_type": "code",
   "execution_count": 58,
   "id": "0990448b-2be5-455d-898b-c597b199c20d",
   "metadata": {},
   "outputs": [
    {
     "name": "stdout",
     "output_type": "stream",
     "text": [
      "[[ 1  3  5]\n",
      " [ 7  9 11]]\n",
      "[[ 0  2  6]\n",
      " [12 20 30]]\n"
     ]
    }
   ],
   "source": [
    "W = np.array([[1, 2, 3], [4, 5, 6]])\n",
    "X = np.array([[0, 1, 2], [3, 4, 5]])\n",
    "\n",
    "print(W + X)\n",
    "print(W * X)"
   ]
  },
  {
   "cell_type": "markdown",
   "id": "f83755f8-4d44-4282-b4d8-bdabff6fd816",
   "metadata": {},
   "source": [
    "## Broadcast"
   ]
  },
  {
   "cell_type": "code",
   "execution_count": 59,
   "id": "6fa5ddc4-c325-4a22-bb6d-8fc1a28741ff",
   "metadata": {},
   "outputs": [
    {
     "data": {
      "text/plain": [
       "array([[10, 20],\n",
       "       [30, 40]])"
      ]
     },
     "execution_count": 59,
     "metadata": {},
     "output_type": "execute_result"
    }
   ],
   "source": [
    "A = np.array([[1, 2], [3, 4]])\n",
    "A * 10"
   ]
  },
  {
   "cell_type": "code",
   "execution_count": 60,
   "id": "9d75871c-79cb-4613-a145-023291a4e8df",
   "metadata": {},
   "outputs": [
    {
     "data": {
      "text/plain": [
       "array([[10, 40],\n",
       "       [30, 80]])"
      ]
     },
     "execution_count": 60,
     "metadata": {},
     "output_type": "execute_result"
    }
   ],
   "source": [
    "A = np.array([[1, 2], [3, 4]])\n",
    "b = np.array([10, 20])\n",
    "A * b"
   ]
  },
  {
   "cell_type": "markdown",
   "id": "86b8ff32-b864-4274-8fc8-b43fdfe3c2d9",
   "metadata": {},
   "source": [
    "## np.dot & np.matmul"
   ]
  },
  {
   "cell_type": "markdown",
   "id": "f4504f6e-fc11-4bde-8ee8-1e693595f8d5",
   "metadata": {},
   "source": [
    "####  1차원 np.dot()은 행렬 곱 수행, 2차원 이상 np.dot()은 내적 수행"
   ]
  },
  {
   "cell_type": "code",
   "execution_count": 61,
   "id": "913eedee-d2e7-474c-a1ad-969ae9fb4c65",
   "metadata": {},
   "outputs": [
    {
     "name": "stdout",
     "output_type": "stream",
     "text": [
      "32\n",
      "[[19 22]\n",
      " [43 50]]\n"
     ]
    }
   ],
   "source": [
    "a = np.array([1, 2, 3])\n",
    "b = np.array([4, 5, 6])\n",
    "print(np.dot(a, b))\n",
    "\n",
    "A = np.array([[1, 2], [3, 4]])\n",
    "B = np.array([[5, 6], [7, 8]])\n",
    "print(np.matmul(A, B))"
   ]
  },
  {
   "cell_type": "markdown",
   "id": "81333768-675d-433d-ade7-1a2a8ee6ba05",
   "metadata": {},
   "source": [
    "## Sigmoid Function"
   ]
  },
  {
   "cell_type": "markdown",
   "id": "5e71d77c-78f4-4dc9-94c7-3ae9c4e4c445",
   "metadata": {},
   "source": [
    "#### FC에 의한 변환은 선형 변환이기에 비선형 효과를 부여하기 위해 Activation Function 요구"
   ]
  },
  {
   "cell_type": "code",
   "execution_count": 62,
   "id": "1fd0531a-9609-4cd6-8c5c-093e6b188f47",
   "metadata": {},
   "outputs": [
    {
     "name": "stdout",
     "output_type": "stream",
     "text": [
      "[[4 7 1 3]\n",
      " [5 6 2 2]\n",
      " [9 6 2 4]\n",
      " [8 4 6 5]\n",
      " [8 2 8 1]\n",
      " [8 4 3 4]\n",
      " [2 8 3 8]\n",
      " [2 2 4 9]\n",
      " [7 9 8 4]\n",
      " [7 2 4 6]]\n",
      "[[0.98201379 0.99908895 0.73105858 0.95257413]\n",
      " [0.99330715 0.99752738 0.88079708 0.88079708]\n",
      " [0.99987661 0.99752738 0.88079708 0.98201379]\n",
      " [0.99966465 0.98201379 0.99752738 0.99330715]\n",
      " [0.99966465 0.88079708 0.99966465 0.73105858]\n",
      " [0.99966465 0.98201379 0.95257413 0.98201379]\n",
      " [0.88079708 0.99966465 0.95257413 0.99966465]\n",
      " [0.88079708 0.88079708 0.98201379 0.99987661]\n",
      " [0.99908895 0.99987661 0.99966465 0.98201379]\n",
      " [0.99908895 0.88079708 0.98201379 0.99752738]]\n"
     ]
    }
   ],
   "source": [
    "def sigmoid(x):\n",
    "    return 1 / (1 + np.exp(-x))\n",
    "\n",
    "h = np.random.randint(1, 10, (10, 4))\n",
    "a = sigmoid(h)\n",
    "print(h)\n",
    "print(a)"
   ]
  },
  {
   "cell_type": "code",
   "execution_count": 63,
   "id": "11d25ca9-0ec3-43c1-9ed0-7f98e14b2c82",
   "metadata": {},
   "outputs": [
    {
     "data": {
      "text/plain": [
       "(array([[-0.0659715 , -0.71100671,  0.94634006],\n",
       "        [ 0.83662223, -0.52520391,  0.56136101],\n",
       "        [-0.43087855, -0.51725485,  1.50147874],\n",
       "        [ 0.62581206, -0.38559627,  1.25881466],\n",
       "        [ 0.22892992, -0.17436715,  2.07814874],\n",
       "        [-0.09238859, -0.68568673,  1.03274413],\n",
       "        [ 0.16701582, -0.60858105,  1.05858175],\n",
       "        [ 0.62315357, -0.58135316,  0.63475243],\n",
       "        [ 0.54021278, -0.2725919 ,  1.6158416 ],\n",
       "        [ 0.60566895, -0.49646136,  0.98467708]]),\n",
       " 2.0781487416982163)"
      ]
     },
     "execution_count": 63,
     "metadata": {},
     "output_type": "execute_result"
    }
   ],
   "source": [
    "x = np.random.randn(10, 2)\n",
    "W1 = np.random.randn(2, 4)\n",
    "b1 = np.random.randn(4)\n",
    "W2 = np.random.randn(4, 3)\n",
    "b2 = np.random.random(3)\n",
    "\n",
    "h = np.matmul(x, W1) + b1\n",
    "a = sigmoid(h)\n",
    "s = np.matmul(a, W2) + b2\n",
    "\n",
    "s, s.max()"
   ]
  },
  {
   "cell_type": "markdown",
   "id": "141cc2af-a133-41af-a710-7ed105166e25",
   "metadata": {},
   "source": [
    "### All layers have forward() & backward() <br> All Layers have params & grads"
   ]
  },
  {
   "cell_type": "code",
   "execution_count": 64,
   "id": "023adde7-4bcc-42b9-9ada-f544287331d9",
   "metadata": {},
   "outputs": [],
   "source": [
    "import numpy as np\n",
    "\n",
    "class Sigmoid:\n",
    "    def __init__(self):\n",
    "        self.params = []\n",
    "\n",
    "    def forward(self, x):\n",
    "        return 1 / (1 + np.exp(-x))"
   ]
  },
  {
   "cell_type": "code",
   "execution_count": 65,
   "id": "69c53cf9-1802-43ee-acd8-4a64d81f7d6e",
   "metadata": {},
   "outputs": [],
   "source": [
    "class Affine:\n",
    "    def __init__(self, W, b):\n",
    "        self.params = [W, b]\n",
    "\n",
    "    def forward(self, x):\n",
    "        W, b = self.params\n",
    "        out = np.matmul(x, W) + b\n",
    "        return out"
   ]
  },
  {
   "cell_type": "code",
   "execution_count": 66,
   "id": "296223f8-6ef2-47d9-9fd2-f1dcfdfd30b6",
   "metadata": {},
   "outputs": [],
   "source": [
    "class TwoLayerNet:\n",
    "    def __init__(self, input_size, hidden_size, output_size):\n",
    "        I, H, O = input_size, hidden_size, output_size\n",
    "\n",
    "        W1 = np.random.randn(I, H)\n",
    "        b1 = np.random.randn(H)\n",
    "        W2 = np.random.randn(H, O)\n",
    "        b2 = np.random.randn(O)\n",
    "\n",
    "        self.layers = [\n",
    "            Affine(W1, b1),\n",
    "            Sigmoid(),\n",
    "            Affine(W2, b2)\n",
    "        ]\n",
    "\n",
    "        self.params = []\n",
    "        for layer in self.layers:\n",
    "            self.params += layer.params\n",
    "\n",
    "    def predict(self, x):\n",
    "        for layer in self.layers:\n",
    "            x = layer.forward(x)\n",
    "\n",
    "        return x"
   ]
  },
  {
   "cell_type": "code",
   "execution_count": 67,
   "id": "7a7fb3e2-37d4-4550-8ea5-72e383ceda46",
   "metadata": {},
   "outputs": [
    {
     "data": {
      "text/plain": [
       "array([[ 1.40435783, -0.77452281,  0.20789873],\n",
       "       [ 1.45999447, -0.85111197,  0.63701533],\n",
       "       [ 1.83079109, -0.75962235,  0.86235148],\n",
       "       [ 1.51378331, -0.80130772,  0.39647994],\n",
       "       [ 1.66343819, -0.81867685,  0.80596508],\n",
       "       [ 1.38494857, -0.92328472,  0.64850609],\n",
       "       [ 1.09951853, -0.81629541,  0.03040727],\n",
       "       [ 1.20016349, -0.64594345, -0.29155705],\n",
       "       [ 1.48511154, -0.8491567 ,  0.65275189],\n",
       "       [ 1.64389353, -0.84087006,  0.81067857]])"
      ]
     },
     "execution_count": 67,
     "metadata": {},
     "output_type": "execute_result"
    }
   ],
   "source": [
    "x = np.random.randn(10, 2)\n",
    "model = TwoLayerNet(2, 4, 3)\n",
    "s = model.predict(x)\n",
    "\n",
    "s"
   ]
  },
  {
   "cell_type": "markdown",
   "id": "e6f686a9-c13f-4f9d-bbb5-b91514cef3c3",
   "metadata": {},
   "source": [
    "### forward -> 추론 | backward -> 학습"
   ]
  },
  {
   "cell_type": "markdown",
   "id": "3509d03f-563b-4ce6-b703-0f0f253b4bfe",
   "metadata": {},
   "source": [
    "### Repeat Node"
   ]
  },
  {
   "cell_type": "code",
   "execution_count": 68,
   "id": "9846fcfc-67b5-4c9a-96c2-3a3c91caa0fb",
   "metadata": {},
   "outputs": [],
   "source": [
    "import numpy as np\n",
    "\n",
    "D, N = 8, 7\n",
    "x = np.random.randn(1, D)\n",
    "y = np.repeat(x, N, axis=0)\n",
    "dy = np.random.randn(N, D)\n",
    "dx = np.sum(dy, axis=0, keepdims=True)"
   ]
  },
  {
   "cell_type": "code",
   "execution_count": 69,
   "id": "8dc53a0c-20a5-4468-b6a7-767ce758e131",
   "metadata": {},
   "outputs": [
    {
     "data": {
      "text/plain": [
       "((1, 8), (7, 8), (7, 8), (1, 8))"
      ]
     },
     "execution_count": 69,
     "metadata": {},
     "output_type": "execute_result"
    }
   ],
   "source": [
    "x.shape, y.shape, dy.shape, dx.shape"
   ]
  },
  {
   "cell_type": "markdown",
   "id": "2072c4ea-c19f-4d12-bedd-2d5963498bcf",
   "metadata": {},
   "source": [
    "### Sum Node"
   ]
  },
  {
   "cell_type": "code",
   "execution_count": 70,
   "id": "c0ed3064-7a79-4f71-939b-054a7387bf6a",
   "metadata": {},
   "outputs": [],
   "source": [
    "import numpy as np\n",
    "\n",
    "D, N = 8, 7\n",
    "x = np.random.randn(N, D)\n",
    "y = np.sum(x, axis=0, keepdims=True)\n",
    "\n",
    "dy = np.random.randn(1, D)\n",
    "dx = np.repeat(dy, N, axis=0)"
   ]
  },
  {
   "cell_type": "code",
   "execution_count": 71,
   "id": "40c97e6c-4bc4-44ea-80d3-e44ae0db9b8b",
   "metadata": {},
   "outputs": [
    {
     "data": {
      "text/plain": [
       "((7, 8), (1, 8), (1, 8), (7, 8))"
      ]
     },
     "execution_count": 71,
     "metadata": {},
     "output_type": "execute_result"
    }
   ],
   "source": [
    "x.shape, y.shape, dy.shape, dx.shape"
   ]
  },
  {
   "cell_type": "markdown",
   "id": "d46fd8bb-dc7e-4b5e-a8cf-328a9ccb02eb",
   "metadata": {},
   "source": [
    "### MatMul Node"
   ]
  },
  {
   "cell_type": "code",
   "execution_count": 72,
   "id": "12c8e6c0-85b8-4762-8396-2b22182d7250",
   "metadata": {},
   "outputs": [],
   "source": [
    "class MatMul:\n",
    "    def __init__(self, W):\n",
    "        self.params = [W]\n",
    "        self.grads = [np.zeros_like(W)]\n",
    "        self.x = None\n",
    "\n",
    "    def forward(self, x):\n",
    "        W, = self.params\n",
    "        out = np.matmul(x, W)\n",
    "        self.x = x\n",
    "        return out\n",
    "\n",
    "    def backward(self, dout):\n",
    "        W, = self.params\n",
    "        dx = np.matmul(dout, W.T)\n",
    "        dW = np.matmul(self.x.T, dout)\n",
    "        self.grads[0][...] = dW\n",
    "        return dx"
   ]
  },
  {
   "cell_type": "markdown",
   "id": "e18a5016-918d-43b4-99d8-bbbc18580979",
   "metadata": {},
   "source": [
    "### Sigmoid with Backward()"
   ]
  },
  {
   "cell_type": "code",
   "execution_count": 73,
   "id": "faaef38a-7edc-4fca-aa96-d692c0828fe0",
   "metadata": {},
   "outputs": [],
   "source": [
    "class Sigmoid:\n",
    "    def __init__(self):\n",
    "        self.params, self.grads = [], []\n",
    "        self.out = None\n",
    "\n",
    "    def forward(self, x):\n",
    "        out = 1 / (1 + np.exp(-x))\n",
    "        self.out = out\n",
    "        return out\n",
    "\n",
    "    def backward(self, dout):\n",
    "        dx = dout * (1.0 - self.out) * self.out\n",
    "        return dx"
   ]
  },
  {
   "cell_type": "markdown",
   "id": "cce4b85f-f642-4cc7-9224-764f4d0a3b08",
   "metadata": {},
   "source": [
    "### Softmax with Loss"
   ]
  },
  {
   "cell_type": "code",
   "execution_count": 74,
   "id": "84fec072-cd4d-483b-969d-eba29f6f3533",
   "metadata": {},
   "outputs": [],
   "source": [
    "def softmax(x):\n",
    "    if x.ndim == 2:\n",
    "        x = x - x.max(axis=1, keepdims=True)\n",
    "        x = np.exp(x)\n",
    "        x /= x.sum(axis=1, keepdims=True)\n",
    "    elif x.ndim == 1:\n",
    "        x = x - np.max(x)\n",
    "        x = np.exp(x) / np.sum(np.exp(x))\n",
    "\n",
    "    return x\n",
    "\n",
    "\n",
    "def cross_entropy_error(y, t):\n",
    "    if y.ndim == 1:\n",
    "        t = t.reshape(1, t.size)\n",
    "        y = y.reshape(1, y.size)\n",
    "        \n",
    "\n",
    "    if t.size == y.size:\n",
    "        t = t.argmax(axis=1)\n",
    "             \n",
    "    batch_size = y.shape[0]\n",
    "\n",
    "    return -np.sum(np.log(y[np.arange(batch_size), t] + 1e-7)) / batch_size\n",
    "\n",
    "\n",
    "class SoftmaxWithLoss:\n",
    "    def __init__(self):\n",
    "        self.params, self.grads = [], []\n",
    "        self.y = None\n",
    "        self.t = None\n",
    "\n",
    "    def forward(self, x, t):\n",
    "        self.t = t\n",
    "        self.y = softmax(x)\n",
    "\n",
    "        if self.t.size == self.y.size:\n",
    "            self.t = self.t.argmax(axis=1)\n",
    "\n",
    "        loss = cross_entropy_error(self.y, self.t)\n",
    "        return loss\n",
    "\n",
    "    def backward(self, dout=1):\n",
    "        batch_size = self.t.shape[0]\n",
    "\n",
    "        dx = self.y.copy()\n",
    "        dx[np.arange(batch_size), self.t] -= 1\n",
    "        dx *= dout\n",
    "        dx = dx / batch_size\n",
    "\n",
    "        return dx"
   ]
  },
  {
   "cell_type": "markdown",
   "id": "8d5867c2-1956-488e-b693-982a0d146b7e",
   "metadata": {},
   "source": [
    "### Affine Layer with Backward()"
   ]
  },
  {
   "cell_type": "code",
   "execution_count": 75,
   "id": "3b5a0b61-0867-43ae-ba67-5df8acb0a2e9",
   "metadata": {},
   "outputs": [],
   "source": [
    "class Affine:\n",
    "    def __init__(self, W, b):\n",
    "        self.params = [W, b]\n",
    "        self.grads = [np.zeros_like(W), np.zeros_like(b)]\n",
    "        self.x = None\n",
    "\n",
    "    def forward(self, x):\n",
    "        W, b = self.params\n",
    "        out = np.matmul(x, W) + b\n",
    "        self.x = x\n",
    "        return out\n",
    "\n",
    "    def backward(self, dout):\n",
    "        W, b = self.params\n",
    "        dx = np.matmul(dout, W.T)\n",
    "        dW = np.matmul(self.x.T, dout)\n",
    "        db = np.sum(dout, axis=0)\n",
    "\n",
    "        self.grads[0][...] = dW\n",
    "        self.grads[1][...] = db\n",
    "\n",
    "        return dx"
   ]
  },
  {
   "cell_type": "markdown",
   "id": "e7bdea1d-1521-429b-80da-024a85e0119c",
   "metadata": {},
   "source": [
    "### SGD"
   ]
  },
  {
   "cell_type": "code",
   "execution_count": 76,
   "id": "d7f1c378-48e2-4b46-a900-0aad1c75281e",
   "metadata": {},
   "outputs": [],
   "source": [
    "class SGD:\n",
    "    def __init__(self, lr = 0.01):\n",
    "        self.lr = lr\n",
    "\n",
    "    def update(self, params, grads):\n",
    "        for i in range(len(params)):\n",
    "            params[i] -= self.lr * grads[i]"
   ]
  },
  {
   "cell_type": "markdown",
   "id": "df519e72-8829-4750-a7d8-d58baa401c9e",
   "metadata": {},
   "source": [
    "### Using Spiral Dataset"
   ]
  },
  {
   "cell_type": "code",
   "execution_count": 77,
   "id": "8248a9b2-37b4-40d7-9282-17f68b8c115c",
   "metadata": {},
   "outputs": [
    {
     "name": "stdout",
     "output_type": "stream",
     "text": [
      "x (300, 2)\n",
      "t (300, 3)\n"
     ]
    },
    {
     "data": {
      "image/png": "[encoded data removed]",
      "text/plain": [
       "<Figure size 640x480 with 1 Axes>"
      ]
     },
     "metadata": {},
     "output_type": "display_data"
    }
   ],
   "source": [
    "import sys\n",
    "import spiral\n",
    "import matplotlib.pyplot as plt\n",
    "\n",
    "x, t = spiral.load_data()\n",
    "print('x', x.shape)\n",
    "print('t', t.shape)\n",
    "\n",
    "N = 100\n",
    "CLS_NUM = 3\n",
    "markers = ['o', 'x', '^']\n",
    "for i in range(CLS_NUM):\n",
    "    plt.scatter(x[i*N:(i+1)*N, 0], x[i*N:(i+1)*N, 1], s=40, marker=markers[i])\n",
    "plt.show()\n",
    "\n",
    "## 선형 방식으로 분리 불가 -> 비선형 방식 요구됨"
   ]
  },
  {
   "cell_type": "code",
   "execution_count": 78,
   "id": "ebd15088-ecce-45a5-84ad-20b9108587b7",
   "metadata": {},
   "outputs": [],
   "source": [
    "import sys\n",
    "import numpy as np\n",
    "\n",
    "class TwoLayerNet:\n",
    "    def __init__(self, input_size, hidden_size, output_size):\n",
    "        I, H, O = input_size, hidden_size, output_size\n",
    "\n",
    "        W1 = 0.01 * np.random.randn(I, H)\n",
    "        b1 = np.zeros(H)\n",
    "        W2 = 0.01 * np.random.randn(H, O)\n",
    "        b2 = np.zeros(O)\n",
    "\n",
    "        self.layers = [\n",
    "            Affine(W1, b1),\n",
    "            Sigmoid(),\n",
    "            Affine(W2, b2)\n",
    "        ]\n",
    "        self.loss_layer = SoftmaxWithLoss()\n",
    "\n",
    "        self.params, self.grads = [], []\n",
    "        for layer in self.layers:\n",
    "            self.params += layer.params\n",
    "            self.grads += layer.grads\n",
    "\n",
    "    def predict(self, x):\n",
    "        for layer in self.layers:\n",
    "            x = layer.forward(x)\n",
    "        return x\n",
    "\n",
    "    def forward(self, x, t):\n",
    "        score = self.predict(x)\n",
    "        loss = self.loss_layer.forward(score, t)\n",
    "        return loss\n",
    "\n",
    "    def backward(self, dout=1):\n",
    "        dout = self.loss_layer.backward(dout)\n",
    "        for layer in reversed(self.layers):\n",
    "            dout = layer.backward(dout)\n",
    "        return dout"
   ]
  },
  {
   "cell_type": "code",
   "execution_count": 79,
   "id": "34e3c7d7-5b3e-4d08-8028-42a498bfd1b8",
   "metadata": {},
   "outputs": [
    {
     "name": "stdout",
     "output_type": "stream",
     "text": [
      "Epoch : 1, Iteration : 1.0, Loss : 1.1256062166823235\n",
      "Epoch : 2, Iteration : 1.0, Loss : 1.1255202354489933\n",
      "Epoch : 3, Iteration : 1.0, Loss : 1.1162613752115285\n",
      "Epoch : 4, Iteration : 1.0, Loss : 1.1162867078413503\n",
      "Epoch : 5, Iteration : 1.0, Loss : 1.1123000112951948\n",
      "Epoch : 6, Iteration : 1.0, Loss : 1.1384639824108038\n",
      "Epoch : 7, Iteration : 1.0, Loss : 1.1590961883070312\n",
      "Epoch : 8, Iteration : 1.0, Loss : 1.1086316143023154\n",
      "Epoch : 9, Iteration : 1.0, Loss : 1.1173305676924539\n",
      "Epoch : 10, Iteration : 1.0, Loss : 1.1287957712269245\n",
      "Epoch : 11, Iteration : 1.0, Loss : 1.1168438089353867\n",
      "Epoch : 12, Iteration : 1.0, Loss : 1.108338779101816\n",
      "Epoch : 13, Iteration : 1.0, Loss : 1.0876149200499459\n",
      "Epoch : 14, Iteration : 1.0, Loss : 1.0766813865819347\n",
      "Epoch : 15, Iteration : 1.0, Loss : 1.0442376735950387\n",
      "Epoch : 16, Iteration : 1.0, Loss : 1.034578262633777\n",
      "Epoch : 17, Iteration : 1.0, Loss : 0.9572932039643971\n",
      "Epoch : 18, Iteration : 1.0, Loss : 0.918385321087945\n",
      "Epoch : 19, Iteration : 1.0, Loss : 0.9241491096212101\n",
      "Epoch : 20, Iteration : 1.0, Loss : 0.8685139076509195\n",
      "Epoch : 21, Iteration : 1.0, Loss : 0.8493807047841541\n",
      "Epoch : 22, Iteration : 1.0, Loss : 0.8171629191788113\n",
      "Epoch : 23, Iteration : 1.0, Loss : 0.7924414711357768\n",
      "Epoch : 24, Iteration : 1.0, Loss : 0.7826646392986112\n",
      "Epoch : 25, Iteration : 1.0, Loss : 0.8235432039035638\n",
      "Epoch : 26, Iteration : 1.0, Loss : 0.7754573601774306\n",
      "Epoch : 27, Iteration : 1.0, Loss : 0.7557857636797779\n",
      "Epoch : 28, Iteration : 1.0, Loss : 0.7644773546985875\n",
      "Epoch : 29, Iteration : 1.0, Loss : 0.783489908441849\n",
      "Epoch : 30, Iteration : 1.0, Loss : 0.7507895610696302\n",
      "Epoch : 31, Iteration : 1.0, Loss : 0.7773067036165258\n",
      "Epoch : 32, Iteration : 1.0, Loss : 0.7650839562418821\n",
      "Epoch : 33, Iteration : 1.0, Loss : 0.7727897179944694\n",
      "Epoch : 34, Iteration : 1.0, Loss : 0.7819402998382252\n",
      "Epoch : 35, Iteration : 1.0, Loss : 0.7479802970891094\n",
      "Epoch : 36, Iteration : 1.0, Loss : 0.7449918634368047\n",
      "Epoch : 37, Iteration : 1.0, Loss : 0.7560347486336815\n",
      "Epoch : 38, Iteration : 1.0, Loss : 0.7621365677235411\n",
      "Epoch : 39, Iteration : 1.0, Loss : 0.7308895411004578\n",
      "Epoch : 40, Iteration : 1.0, Loss : 0.7530268898576872\n",
      "Epoch : 41, Iteration : 1.0, Loss : 0.7598416342022494\n",
      "Epoch : 42, Iteration : 1.0, Loss : 0.7594443798911803\n",
      "Epoch : 43, Iteration : 1.0, Loss : 0.7609245612331736\n",
      "Epoch : 44, Iteration : 1.0, Loss : 0.7385235003122192\n",
      "Epoch : 45, Iteration : 1.0, Loss : 0.7483287079215573\n",
      "Epoch : 46, Iteration : 1.0, Loss : 0.7322123222567571\n",
      "Epoch : 47, Iteration : 1.0, Loss : 0.7226947264484566\n",
      "Epoch : 48, Iteration : 1.0, Loss : 0.7329453633807874\n",
      "Epoch : 49, Iteration : 1.0, Loss : 0.7228591003722225\n",
      "Epoch : 50, Iteration : 1.0, Loss : 0.7225109819294907\n",
      "Epoch : 51, Iteration : 1.0, Loss : 0.7151355271138072\n",
      "Epoch : 52, Iteration : 1.0, Loss : 0.7195462325887141\n",
      "Epoch : 53, Iteration : 1.0, Loss : 0.7375188235491986\n",
      "Epoch : 54, Iteration : 1.0, Loss : 0.7361580823220942\n",
      "Epoch : 55, Iteration : 1.0, Loss : 0.7224648808897995\n",
      "Epoch : 56, Iteration : 1.0, Loss : 0.7182891638960814\n",
      "Epoch : 57, Iteration : 1.0, Loss : 0.7074840271194414\n",
      "Epoch : 58, Iteration : 1.0, Loss : 0.7004036126944775\n",
      "Epoch : 59, Iteration : 1.0, Loss : 0.7172821745385198\n",
      "Epoch : 60, Iteration : 1.0, Loss : 0.7014167269154443\n",
      "Epoch : 61, Iteration : 1.0, Loss : 0.7139798052248815\n",
      "Epoch : 62, Iteration : 1.0, Loss : 0.7158390973991745\n",
      "Epoch : 63, Iteration : 1.0, Loss : 0.7024145847917301\n",
      "Epoch : 64, Iteration : 1.0, Loss : 0.7147655630827305\n",
      "Epoch : 65, Iteration : 1.0, Loss : 0.7258385981107364\n",
      "Epoch : 66, Iteration : 1.0, Loss : 0.6991952628756115\n",
      "Epoch : 67, Iteration : 1.0, Loss : 0.7149037812469097\n",
      "Epoch : 68, Iteration : 1.0, Loss : 0.6923793329208152\n",
      "Epoch : 69, Iteration : 1.0, Loss : 0.6950715496129249\n",
      "Epoch : 70, Iteration : 1.0, Loss : 0.7051743201139318\n",
      "Epoch : 71, Iteration : 1.0, Loss : 0.6818892201279281\n",
      "Epoch : 72, Iteration : 1.0, Loss : 0.6931081236194649\n",
      "Epoch : 73, Iteration : 1.0, Loss : 0.6678843529136961\n",
      "Epoch : 74, Iteration : 1.0, Loss : 0.6795690012596001\n",
      "Epoch : 75, Iteration : 1.0, Loss : 0.6696918781908964\n",
      "Epoch : 76, Iteration : 1.0, Loss : 0.6601032915888687\n",
      "Epoch : 77, Iteration : 1.0, Loss : 0.6948944014779307\n",
      "Epoch : 78, Iteration : 1.0, Loss : 0.6448714009948229\n",
      "Epoch : 79, Iteration : 1.0, Loss : 0.6797970357896569\n",
      "Epoch : 80, Iteration : 1.0, Loss : 0.6389928717097754\n",
      "Epoch : 81, Iteration : 1.0, Loss : 0.6352100394457484\n",
      "Epoch : 82, Iteration : 1.0, Loss : 0.6642182679001876\n",
      "Epoch : 83, Iteration : 1.0, Loss : 0.6194764020308783\n",
      "Epoch : 84, Iteration : 1.0, Loss : 0.6229674573767082\n",
      "Epoch : 85, Iteration : 1.0, Loss : 0.6125107706517634\n",
      "Epoch : 86, Iteration : 1.0, Loss : 0.5971911133520728\n",
      "Epoch : 87, Iteration : 1.0, Loss : 0.5988198466130643\n",
      "Epoch : 88, Iteration : 1.0, Loss : 0.6083885307835828\n",
      "Epoch : 89, Iteration : 1.0, Loss : 0.5881132092407986\n",
      "Epoch : 90, Iteration : 1.0, Loss : 0.5773251645421091\n",
      "Epoch : 91, Iteration : 1.0, Loss : 0.5573829192639742\n",
      "Epoch : 92, Iteration : 1.0, Loss : 0.5604590214222999\n",
      "Epoch : 93, Iteration : 1.0, Loss : 0.5448990532547214\n",
      "Epoch : 94, Iteration : 1.0, Loss : 0.5286015850570893\n",
      "Epoch : 95, Iteration : 1.0, Loss : 0.5299314123468276\n",
      "Epoch : 96, Iteration : 1.0, Loss : 0.5163065862636678\n",
      "Epoch : 97, Iteration : 1.0, Loss : 0.5124308579159358\n",
      "Epoch : 98, Iteration : 1.0, Loss : 0.5016440362124142\n",
      "Epoch : 99, Iteration : 1.0, Loss : 0.4844736823098783\n",
      "Epoch : 100, Iteration : 1.0, Loss : 0.4800059216962936\n",
      "Epoch : 101, Iteration : 1.0, Loss : 0.460993488059218\n",
      "Epoch : 102, Iteration : 1.0, Loss : 0.45402197600669825\n",
      "Epoch : 103, Iteration : 1.0, Loss : 0.4535714177590592\n",
      "Epoch : 104, Iteration : 1.0, Loss : 0.44299294652693916\n",
      "Epoch : 105, Iteration : 1.0, Loss : 0.4361554171427494\n",
      "Epoch : 106, Iteration : 1.0, Loss : 0.41049348011889686\n",
      "Epoch : 107, Iteration : 1.0, Loss : 0.4031641890220192\n",
      "Epoch : 108, Iteration : 1.0, Loss : 0.407611268222558\n",
      "Epoch : 109, Iteration : 1.0, Loss : 0.4036238903780626\n",
      "Epoch : 110, Iteration : 1.0, Loss : 0.3995146952313426\n",
      "Epoch : 111, Iteration : 1.0, Loss : 0.3792167407782228\n",
      "Epoch : 112, Iteration : 1.0, Loss : 0.37504713978066406\n",
      "Epoch : 113, Iteration : 1.0, Loss : 0.362294984940495\n",
      "Epoch : 114, Iteration : 1.0, Loss : 0.3675710439808238\n",
      "Epoch : 115, Iteration : 1.0, Loss : 0.3461651052610784\n",
      "Epoch : 116, Iteration : 1.0, Loss : 0.34489800029011564\n",
      "Epoch : 117, Iteration : 1.0, Loss : 0.3352893350700098\n",
      "Epoch : 118, Iteration : 1.0, Loss : 0.33807418815033236\n",
      "Epoch : 119, Iteration : 1.0, Loss : 0.3283438143916968\n",
      "Epoch : 120, Iteration : 1.0, Loss : 0.3351965821052375\n",
      "Epoch : 121, Iteration : 1.0, Loss : 0.3158394400578505\n",
      "Epoch : 122, Iteration : 1.0, Loss : 0.3174067835957743\n",
      "Epoch : 123, Iteration : 1.0, Loss : 0.30558094499258276\n",
      "Epoch : 124, Iteration : 1.0, Loss : 0.3130674322037679\n",
      "Epoch : 125, Iteration : 1.0, Loss : 0.3001822128388418\n",
      "Epoch : 126, Iteration : 1.0, Loss : 0.29874189254742367\n",
      "Epoch : 127, Iteration : 1.0, Loss : 0.2838029470706272\n",
      "Epoch : 128, Iteration : 1.0, Loss : 0.2811840756517866\n",
      "Epoch : 129, Iteration : 1.0, Loss : 0.28183411256599306\n",
      "Epoch : 130, Iteration : 1.0, Loss : 0.27771459938710974\n",
      "Epoch : 131, Iteration : 1.0, Loss : 0.27238825698634817\n",
      "Epoch : 132, Iteration : 1.0, Loss : 0.2670771231606995\n",
      "Epoch : 133, Iteration : 1.0, Loss : 0.2709453036220712\n",
      "Epoch : 134, Iteration : 1.0, Loss : 0.2705724538659975\n",
      "Epoch : 135, Iteration : 1.0, Loss : 0.27030885972727636\n",
      "Epoch : 136, Iteration : 1.0, Loss : 0.2643726010723014\n",
      "Epoch : 137, Iteration : 1.0, Loss : 0.263783055422459\n",
      "Epoch : 138, Iteration : 1.0, Loss : 0.2560501993977535\n",
      "Epoch : 139, Iteration : 1.0, Loss : 0.2521541449844561\n",
      "Epoch : 140, Iteration : 1.0, Loss : 0.2429111293445619\n",
      "Epoch : 141, Iteration : 1.0, Loss : 0.23945524042724528\n",
      "Epoch : 142, Iteration : 1.0, Loss : 0.2454226274685854\n",
      "Epoch : 143, Iteration : 1.0, Loss : 0.23667537176990044\n",
      "Epoch : 144, Iteration : 1.0, Loss : 0.24031931061928144\n",
      "Epoch : 145, Iteration : 1.0, Loss : 0.23361288810496222\n",
      "Epoch : 146, Iteration : 1.0, Loss : 0.23650963179911183\n",
      "Epoch : 147, Iteration : 1.0, Loss : 0.2302540765678644\n",
      "Epoch : 148, Iteration : 1.0, Loss : 0.22932871901830182\n",
      "Epoch : 149, Iteration : 1.0, Loss : 0.22401693146587243\n",
      "Epoch : 150, Iteration : 1.0, Loss : 0.22394676535578725\n",
      "Epoch : 151, Iteration : 1.0, Loss : 0.22310757814713017\n",
      "Epoch : 152, Iteration : 1.0, Loss : 0.22264097958236567\n",
      "Epoch : 153, Iteration : 1.0, Loss : 0.21697683471580675\n",
      "Epoch : 154, Iteration : 1.0, Loss : 0.2175595128888097\n",
      "Epoch : 155, Iteration : 1.0, Loss : 0.21507058662677125\n",
      "Epoch : 156, Iteration : 1.0, Loss : 0.20835755321509936\n",
      "Epoch : 157, Iteration : 1.0, Loss : 0.20913544783239257\n",
      "Epoch : 158, Iteration : 1.0, Loss : 0.2048045603301262\n",
      "Epoch : 159, Iteration : 1.0, Loss : 0.20860699412184802\n",
      "Epoch : 160, Iteration : 1.0, Loss : 0.19815557489605223\n",
      "Epoch : 161, Iteration : 1.0, Loss : 0.20435571889234455\n",
      "Epoch : 162, Iteration : 1.0, Loss : 0.1972402074622854\n",
      "Epoch : 163, Iteration : 1.0, Loss : 0.21198898405557226\n",
      "Epoch : 164, Iteration : 1.0, Loss : 0.1999005528642045\n",
      "Epoch : 165, Iteration : 1.0, Loss : 0.19670798433787984\n",
      "Epoch : 166, Iteration : 1.0, Loss : 0.1949373243441175\n",
      "Epoch : 167, Iteration : 1.0, Loss : 0.18861275602513128\n",
      "Epoch : 168, Iteration : 1.0, Loss : 0.18713582913287857\n",
      "Epoch : 169, Iteration : 1.0, Loss : 0.1859257170738779\n",
      "Epoch : 170, Iteration : 1.0, Loss : 0.18837376894472474\n",
      "Epoch : 171, Iteration : 1.0, Loss : 0.1899954671846739\n",
      "Epoch : 172, Iteration : 1.0, Loss : 0.1827307201942813\n",
      "Epoch : 173, Iteration : 1.0, Loss : 0.18441370204922114\n",
      "Epoch : 174, Iteration : 1.0, Loss : 0.18330587406258333\n",
      "Epoch : 175, Iteration : 1.0, Loss : 0.18023455480919764\n",
      "Epoch : 176, Iteration : 1.0, Loss : 0.17511064852464436\n",
      "Epoch : 177, Iteration : 1.0, Loss : 0.17767416217643647\n",
      "Epoch : 178, Iteration : 1.0, Loss : 0.17668728636135764\n",
      "Epoch : 179, Iteration : 1.0, Loss : 0.1729384715402469\n",
      "Epoch : 180, Iteration : 1.0, Loss : 0.1732855132985499\n",
      "Epoch : 181, Iteration : 1.0, Loss : 0.176537927384994\n",
      "Epoch : 182, Iteration : 1.0, Loss : 0.17282612618111381\n",
      "Epoch : 183, Iteration : 1.0, Loss : 0.17626893090372192\n",
      "Epoch : 184, Iteration : 1.0, Loss : 0.17434628901735733\n",
      "Epoch : 185, Iteration : 1.0, Loss : 0.16949071085989273\n",
      "Epoch : 186, Iteration : 1.0, Loss : 0.17755351335715983\n",
      "Epoch : 187, Iteration : 1.0, Loss : 0.17285695698153422\n",
      "Epoch : 188, Iteration : 1.0, Loss : 0.16648514397547942\n",
      "Epoch : 189, Iteration : 1.0, Loss : 0.1659415313297758\n",
      "Epoch : 190, Iteration : 1.0, Loss : 0.16931139951263346\n",
      "Epoch : 191, Iteration : 1.0, Loss : 0.1630110612160231\n",
      "Epoch : 192, Iteration : 1.0, Loss : 0.16958890572080465\n",
      "Epoch : 193, Iteration : 1.0, Loss : 0.1619068243118518\n",
      "Epoch : 194, Iteration : 1.0, Loss : 0.1593953790903984\n",
      "Epoch : 195, Iteration : 1.0, Loss : 0.1628603285796196\n",
      "Epoch : 196, Iteration : 1.0, Loss : 0.16124197360055134\n",
      "Epoch : 197, Iteration : 1.0, Loss : 0.16364914579280582\n",
      "Epoch : 198, Iteration : 1.0, Loss : 0.15276787679918422\n",
      "Epoch : 199, Iteration : 1.0, Loss : 0.15970328019708854\n",
      "Epoch : 200, Iteration : 1.0, Loss : 0.1574778285151792\n",
      "Epoch : 201, Iteration : 1.0, Loss : 0.15467694220979306\n",
      "Epoch : 202, Iteration : 1.0, Loss : 0.1569377065521719\n",
      "Epoch : 203, Iteration : 1.0, Loss : 0.15547652786727312\n",
      "Epoch : 204, Iteration : 1.0, Loss : 0.15394834058798218\n",
      "Epoch : 205, Iteration : 1.0, Loss : 0.15758367150781258\n",
      "Epoch : 206, Iteration : 1.0, Loss : 0.15348488267419574\n",
      "Epoch : 207, Iteration : 1.0, Loss : 0.154462931022491\n",
      "Epoch : 208, Iteration : 1.0, Loss : 0.14767977186639938\n",
      "Epoch : 209, Iteration : 1.0, Loss : 0.15141489293752292\n",
      "Epoch : 210, Iteration : 1.0, Loss : 0.14935646270420938\n",
      "Epoch : 211, Iteration : 1.0, Loss : 0.15170519390744658\n",
      "Epoch : 212, Iteration : 1.0, Loss : 0.14755917786826162\n",
      "Epoch : 213, Iteration : 1.0, Loss : 0.1478514574205581\n",
      "Epoch : 214, Iteration : 1.0, Loss : 0.14515980626797964\n",
      "Epoch : 215, Iteration : 1.0, Loss : 0.1467839938360449\n",
      "Epoch : 216, Iteration : 1.0, Loss : 0.1438836332008836\n",
      "Epoch : 217, Iteration : 1.0, Loss : 0.14259768661059322\n",
      "Epoch : 218, Iteration : 1.0, Loss : 0.14555184796511325\n",
      "Epoch : 219, Iteration : 1.0, Loss : 0.13922422236572768\n",
      "Epoch : 220, Iteration : 1.0, Loss : 0.1373094434318806\n",
      "Epoch : 221, Iteration : 1.0, Loss : 0.14410598841352623\n",
      "Epoch : 222, Iteration : 1.0, Loss : 0.14050778228166322\n",
      "Epoch : 223, Iteration : 1.0, Loss : 0.14224984249809602\n",
      "Epoch : 224, Iteration : 1.0, Loss : 0.14254640666896845\n",
      "Epoch : 225, Iteration : 1.0, Loss : 0.13667202381979066\n",
      "Epoch : 226, Iteration : 1.0, Loss : 0.1365901190048485\n",
      "Epoch : 227, Iteration : 1.0, Loss : 0.1425166520507038\n",
      "Epoch : 228, Iteration : 1.0, Loss : 0.13608657183237463\n",
      "Epoch : 229, Iteration : 1.0, Loss : 0.12909966921321336\n",
      "Epoch : 230, Iteration : 1.0, Loss : 0.1388310712069003\n",
      "Epoch : 231, Iteration : 1.0, Loss : 0.1314233707388209\n",
      "Epoch : 232, Iteration : 1.0, Loss : 0.1359495174722269\n",
      "Epoch : 233, Iteration : 1.0, Loss : 0.13429273376232\n",
      "Epoch : 234, Iteration : 1.0, Loss : 0.13144069789855406\n",
      "Epoch : 235, Iteration : 1.0, Loss : 0.1314826917787813\n",
      "Epoch : 236, Iteration : 1.0, Loss : 0.12860673738419154\n",
      "Epoch : 237, Iteration : 1.0, Loss : 0.13539204860157278\n",
      "Epoch : 238, Iteration : 1.0, Loss : 0.13223101774593105\n",
      "Epoch : 239, Iteration : 1.0, Loss : 0.13134628823538017\n",
      "Epoch : 240, Iteration : 1.0, Loss : 0.13781596053410866\n",
      "Epoch : 241, Iteration : 1.0, Loss : 0.13367286871605055\n",
      "Epoch : 242, Iteration : 1.0, Loss : 0.12860547570667208\n",
      "Epoch : 243, Iteration : 1.0, Loss : 0.1277501520785627\n",
      "Epoch : 244, Iteration : 1.0, Loss : 0.1300224354664544\n",
      "Epoch : 245, Iteration : 1.0, Loss : 0.13145974901706822\n",
      "Epoch : 246, Iteration : 1.0, Loss : 0.1279660589387363\n",
      "Epoch : 247, Iteration : 1.0, Loss : 0.12643439113307092\n",
      "Epoch : 248, Iteration : 1.0, Loss : 0.1320104190640847\n",
      "Epoch : 249, Iteration : 1.0, Loss : 0.1277900985379358\n",
      "Epoch : 250, Iteration : 1.0, Loss : 0.13040328847998245\n",
      "Epoch : 251, Iteration : 1.0, Loss : 0.13348456295442587\n",
      "Epoch : 252, Iteration : 1.0, Loss : 0.12453963049125027\n",
      "Epoch : 253, Iteration : 1.0, Loss : 0.12132675691111502\n",
      "Epoch : 254, Iteration : 1.0, Loss : 0.1228600845206473\n",
      "Epoch : 255, Iteration : 1.0, Loss : 0.12267013423577504\n",
      "Epoch : 256, Iteration : 1.0, Loss : 0.12312488940516708\n",
      "Epoch : 257, Iteration : 1.0, Loss : 0.12127839505918621\n",
      "Epoch : 258, Iteration : 1.0, Loss : 0.12467328584597163\n",
      "Epoch : 259, Iteration : 1.0, Loss : 0.13195709803216438\n",
      "Epoch : 260, Iteration : 1.0, Loss : 0.12026657236516296\n",
      "Epoch : 261, Iteration : 1.0, Loss : 0.12500316552637755\n",
      "Epoch : 262, Iteration : 1.0, Loss : 0.12062063523861195\n",
      "Epoch : 263, Iteration : 1.0, Loss : 0.11810798686866311\n",
      "Epoch : 264, Iteration : 1.0, Loss : 0.126815522710357\n",
      "Epoch : 265, Iteration : 1.0, Loss : 0.11807400896605261\n",
      "Epoch : 266, Iteration : 1.0, Loss : 0.12014005000495138\n",
      "Epoch : 267, Iteration : 1.0, Loss : 0.11993006486808402\n",
      "Epoch : 268, Iteration : 1.0, Loss : 0.11732517384704752\n",
      "Epoch : 269, Iteration : 1.0, Loss : 0.1136047759790467\n",
      "Epoch : 270, Iteration : 1.0, Loss : 0.11888250117808803\n",
      "Epoch : 271, Iteration : 1.0, Loss : 0.11633511040515603\n",
      "Epoch : 272, Iteration : 1.0, Loss : 0.11825391183559256\n",
      "Epoch : 273, Iteration : 1.0, Loss : 0.1162370356972748\n",
      "Epoch : 274, Iteration : 1.0, Loss : 0.1232251411641891\n",
      "Epoch : 275, Iteration : 1.0, Loss : 0.11326334261276313\n",
      "Epoch : 276, Iteration : 1.0, Loss : 0.11580125295481183\n",
      "Epoch : 277, Iteration : 1.0, Loss : 0.12418527047451147\n",
      "Epoch : 278, Iteration : 1.0, Loss : 0.11289494501453365\n",
      "Epoch : 279, Iteration : 1.0, Loss : 0.11077561346473117\n",
      "Epoch : 280, Iteration : 1.0, Loss : 0.11431217925067241\n",
      "Epoch : 281, Iteration : 1.0, Loss : 0.11427378474471325\n",
      "Epoch : 282, Iteration : 1.0, Loss : 0.11731530918730067\n",
      "Epoch : 283, Iteration : 1.0, Loss : 0.11173984745596399\n",
      "Epoch : 284, Iteration : 1.0, Loss : 0.1138243732827569\n",
      "Epoch : 285, Iteration : 1.0, Loss : 0.11354569974260217\n",
      "Epoch : 286, Iteration : 1.0, Loss : 0.11082773737319429\n",
      "Epoch : 287, Iteration : 1.0, Loss : 0.11235645391470014\n",
      "Epoch : 288, Iteration : 1.0, Loss : 0.11698939249450442\n",
      "Epoch : 289, Iteration : 1.0, Loss : 0.11394781289859846\n",
      "Epoch : 290, Iteration : 1.0, Loss : 0.11472703869653109\n",
      "Epoch : 291, Iteration : 1.0, Loss : 0.11195179439782435\n",
      "Epoch : 292, Iteration : 1.0, Loss : 0.11252714425363766\n",
      "Epoch : 293, Iteration : 1.0, Loss : 0.11019011632052711\n",
      "Epoch : 294, Iteration : 1.0, Loss : 0.11147947028025713\n",
      "Epoch : 295, Iteration : 1.0, Loss : 0.11578316334144985\n",
      "Epoch : 296, Iteration : 1.0, Loss : 0.11022282695739691\n",
      "Epoch : 297, Iteration : 1.0, Loss : 0.11966849814776907\n",
      "Epoch : 298, Iteration : 1.0, Loss : 0.11160268411696465\n",
      "Epoch : 299, Iteration : 1.0, Loss : 0.10668719692739762\n",
      "Epoch : 300, Iteration : 1.0, Loss : 0.10854954795724303\n"
     ]
    }
   ],
   "source": [
    "max_epoch = 300\n",
    "batch_size = 30\n",
    "hidden_size = 10\n",
    "learning_rate = 1.0\n",
    "\n",
    "x, t = spiral.load_data()\n",
    "model = TwoLayerNet(input_size=2, hidden_size=hidden_size, output_size=3)\n",
    "optimizer = SGD(lr=learning_rate)\n",
    "\n",
    "data_size = len(x)\n",
    "max_iters = data_size // batch_size\n",
    "total_loss = 0\n",
    "loss_count = 0\n",
    "loss_list = []\n",
    "\n",
    "for epoch in range(max_epoch):\n",
    "    idx = np.random.permutation(data_size)\n",
    "    x = x[idx]\n",
    "    t = t[idx]\n",
    "\n",
    "    for iters in range(max_iters):\n",
    "        batch_x = x[iters*batch_size:(iters+1)*batch_size]\n",
    "        batch_t = t[iters*batch_size:(iters+1)*batch_size]\n",
    "\n",
    "        loss = model.forward(batch_x, batch_t)\n",
    "        model.backward()\n",
    "        optimizer.update(model.params, model.grads)\n",
    "\n",
    "        total_loss += loss\n",
    "        loss_count += 1\n",
    "\n",
    "        if (iters + 1) % 10 == 0:\n",
    "            avg_loss = total_loss / loss_count\n",
    "            print(f\"Epoch : {epoch + 1}, Iteration : {(iters + 1)/max_iters}, Loss : {avg_loss}\")\n",
    "            loss_list.append(avg_loss)\n",
    "            total_loss, loss_count = 0, 0"
   ]
  },
  {
   "cell_type": "code",
   "execution_count": 81,
   "id": "35403d5e-1627-4f24-99d3-0141577d48b4",
   "metadata": {},
   "outputs": [
    {
     "data": {
      "image/png": "[encoded data removed]",
      "text/plain": [
       "<Figure size 640x480 with 1 Axes>"
      ]
     },
     "metadata": {},
     "output_type": "display_data"
    }
   ],
   "source": [
    "plt.plot(np.arange(len(loss_list)), loss_list, label='train')\n",
    "plt.xlabel('Iteration (x10)')\n",
    "plt.ylabel('Loss')\n",
    "plt.show()"
   ]
  },
  {
   "cell_type": "code",
   "execution_count": 82,
   "id": "f6387fcc-04f9-4291-8f10-209dc3e17617",
   "metadata": {},
   "outputs": [
    {
     "data": {
      "image/png": "[encoded data removed]",
      "text/plain": [
       "<Figure size 640x480 with 1 Axes>"
      ]
     },
     "metadata": {},
     "output_type": "display_data"
    }
   ],
   "source": [
    "h = 0.001\n",
    "x_min, x_max = x[:, 0].min() - .1, x[:, 0].max() + .1\n",
    "y_min, y_max = x[:, 1].min() - .1, x[:, 1].max() + .1\n",
    "xx, yy = np.meshgrid(np.arange(x_min, x_max, h), np.arange(y_min, y_max, h))\n",
    "X = np.c_[xx.ravel(), yy.ravel()]\n",
    "score = model.predict(X)\n",
    "predict_cls = np.argmax(score, axis=1)\n",
    "Z = predict_cls.reshape(xx.shape)\n",
    "plt.contourf(xx, yy, Z)\n",
    "plt.axis('off')\n",
    "\n",
    "x, t = spiral.load_data()\n",
    "N = 100\n",
    "CLS_NUM = 3\n",
    "markers = ['o', 'x', '^']\n",
    "for i in range(CLS_NUM):\n",
    "    plt.scatter(x[i*N:(i+1)*N, 0], x[i*N:(i+1)*N, 1], s=40, marker=markers[i])\n",
    "plt.show()"
   ]
  }
 ],
 "metadata": {
  "kernelspec": {
   "display_name": "Python 3 (ipykernel)",
   "language": "python",
   "name": "python3"
  },
  "language_info": {
   "codemirror_mode": {
    "name": "ipython",
    "version": 3
   },
   "file_extension": ".py",
   "mimetype": "text/x-python",
   "name": "python",
   "nbconvert_exporter": "python",
   "pygments_lexer": "ipython3",
   "version": "3.9.21"
  }
 },
 "nbformat": 4,
 "nbformat_minor": 5
}
