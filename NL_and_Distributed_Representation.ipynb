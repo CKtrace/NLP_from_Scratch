{
 "cells": [
  {
   "cell_type": "code",
   "execution_count": 2,
   "id": "4b41e83d-919c-4b86-98ad-3bca174f216d",
   "metadata": {},
   "outputs": [],
   "source": [
    "text = 'You say goodbye and I say hello.'"
   ]
  },
  {
   "cell_type": "code",
   "execution_count": 3,
   "id": "4bbf18b2-5bf5-466d-8a53-4acc92e39b8d",
   "metadata": {},
   "outputs": [
    {
     "name": "stdout",
     "output_type": "stream",
     "text": [
      "you say goodbye and i say hello .\n",
      "['you', 'say', 'goodbye', 'and', 'i', 'say', 'hello', '.']\n"
     ]
    }
   ],
   "source": [
    "text = text.lower()\n",
    "text = text.replace('.', ' .')\n",
    "print(text)\n",
    "\n",
    "words = text.split(' ')\n",
    "print(words)"
   ]
  },
  {
   "cell_type": "code",
   "execution_count": 4,
   "id": "a0f32c2a-4d7c-422e-adf9-b4f656ff2ebe",
   "metadata": {},
   "outputs": [],
   "source": [
    "word_to_id = {}\n",
    "id_to_word = {}\n",
    "\n",
    "for word in words:\n",
    "    if word not in word_to_id:\n",
    "        new_id = len(word_to_id)\n",
    "        word_to_id[word] = new_id\n",
    "        id_to_word[new_id] = word"
   ]
  },
  {
   "cell_type": "code",
   "execution_count": 5,
   "id": "3a300951-5621-4998-a568-3097e3790cc1",
   "metadata": {},
   "outputs": [
    {
     "name": "stdout",
     "output_type": "stream",
     "text": [
      "{0: 'you', 1: 'say', 2: 'goodbye', 3: 'and', 4: 'i', 5: 'hello', 6: '.'}\n",
      "{'you': 0, 'say': 1, 'goodbye': 2, 'and': 3, 'i': 4, 'hello': 5, '.': 6}\n"
     ]
    }
   ],
   "source": [
    "print(id_to_word)\n",
    "print(word_to_id)"
   ]
  },
  {
   "cell_type": "code",
   "execution_count": 6,
   "id": "deb33e0e-7a3e-4be2-b42c-a32ffeb8b58f",
   "metadata": {},
   "outputs": [
    {
     "data": {
      "text/plain": [
       "array([0, 1, 2, 3, 4, 1, 5, 6])"
      ]
     },
     "execution_count": 6,
     "metadata": {},
     "output_type": "execute_result"
    }
   ],
   "source": [
    "import numpy as np\n",
    "\n",
    "corpus = [word_to_id[w] for w in words]\n",
    "corpus = np.array(corpus)\n",
    "corpus"
   ]
  },
  {
   "cell_type": "code",
   "execution_count": 19,
   "id": "1ff9e7c0-78c8-42eb-b341-c90981e735ff",
   "metadata": {},
   "outputs": [],
   "source": [
    "def preprocess(text):\n",
    "    text = text.lower()\n",
    "    text = text.replace('.', ' .')\n",
    "    words = text.split(' ')\n",
    "\n",
    "    word_to_id = {}\n",
    "    id_to_word = {}\n",
    "\n",
    "    for word in words:\n",
    "        if word not in word_to_id:\n",
    "            new_id = len(word_to_id)\n",
    "            word_to_id[word] = new_id\n",
    "            id_to_word[new_id] = word\n",
    "\n",
    "    corpus = np.array([word_to_id[w] for w in words])\n",
    "\n",
    "    return corpus, word_to_id, id_to_word"
   ]
  },
  {
   "cell_type": "code",
   "execution_count": 8,
   "id": "c676c86c-c684-4076-85cd-c4f31355905d",
   "metadata": {},
   "outputs": [
    {
     "name": "stdout",
     "output_type": "stream",
     "text": [
      "['you', 'say', 'goodbye', 'and', 'i', 'say', 'hello', '.']\n"
     ]
    },
    {
     "data": {
      "text/plain": [
       "(array([0, 1, 2, 3, 4, 1, 5, 6]),\n",
       " {'you': 0, 'say': 1, 'goodbye': 2, 'and': 3, 'i': 4, 'hello': 5, '.': 6},\n",
       " {0: 'you', 1: 'say', 2: 'goodbye', 3: 'and', 4: 'i', 5: 'hello', 6: '.'})"
      ]
     },
     "execution_count": 8,
     "metadata": {},
     "output_type": "execute_result"
    }
   ],
   "source": [
    "text = 'You say goodbye and I say hello.'\n",
    "corpus, word_to_id, id_to_word = preprocess(text)\n",
    "\n",
    "corpus, word_to_id, id_to_word"
   ]
  },
  {
   "cell_type": "code",
   "execution_count": 9,
   "id": "2f97fe5a-386e-44aa-9793-d836e7c1dc9a",
   "metadata": {},
   "outputs": [
    {
     "data": {
      "text/plain": [
       "array([[0, 1, 0, 0, 0, 0, 0],\n",
       "       [1, 0, 1, 0, 1, 1, 0],\n",
       "       [0, 1, 0, 1, 0, 0, 0],\n",
       "       [0, 1, 0, 0, 0, 0, 1],\n",
       "       [0, 0, 0, 0, 0, 1, 0]])"
      ]
     },
     "execution_count": 9,
     "metadata": {},
     "output_type": "execute_result"
    }
   ],
   "source": [
    "# Window Size = 1\n",
    "C = np.array([\n",
    "    [0, 1, 0, 0, 0, 0, 0],\n",
    "    [1, 0, 1, 0, 1, 1, 0],\n",
    "    [0, 1, 0, 1, 0, 0, 0],\n",
    "    [0, 1, 0, 0, 0, 0, 1],\n",
    "    [0, 0, 0, 0, 0, 1, 0]\n",
    "], dtype=np.int32)\n",
    "C"
   ]
  },
  {
   "cell_type": "code",
   "execution_count": 10,
   "id": "e61a14b3-1ce5-4e11-a8fe-6847f40ad63f",
   "metadata": {},
   "outputs": [
    {
     "name": "stdout",
     "output_type": "stream",
     "text": [
      "[0 1 0 0 0 0 0]\n",
      "[0 0 0 0 0 1 0]\n",
      "[0 1 0 1 0 0 0]\n"
     ]
    }
   ],
   "source": [
    "print(C[0])\n",
    "print(C[4])\n",
    "print(C[word_to_id['goodbye']])"
   ]
  },
  {
   "cell_type": "markdown",
   "id": "e2617d59-a20e-4b0b-b31b-3bfbdb30b01b",
   "metadata": {},
   "source": [
    "## Co-Occurence Matrix -> Problem : Not related token can get high value"
   ]
  },
  {
   "cell_type": "code",
   "execution_count": 11,
   "id": "e421128d-1240-4370-a68f-037a90cab648",
   "metadata": {},
   "outputs": [],
   "source": [
    "def create_co_matrix(corpus, vocab_size, window_size=1):\n",
    "    corpus_size = len(corpus)\n",
    "    co_matrix = np.zeros((vocab_size, vocab_size), dtype=np.int32)\n",
    "\n",
    "    for idx, word_id in enumerate(corpus):\n",
    "        for i in range(1, window_size+1):\n",
    "            left_idx = idx - i\n",
    "            right_idx = idx + i\n",
    "\n",
    "            if left_idx >= 0:\n",
    "                left_word_id = corpus[left_idx]\n",
    "                co_matrix[word_id, left_word_id] += 1\n",
    "\n",
    "            if right_idx < corpus_size:\n",
    "                right_word_id = corpus[right_idx]\n",
    "                co_matrix[word_id, right_word_id] += 1\n",
    "\n",
    "    return co_matrix"
   ]
  },
  {
   "cell_type": "markdown",
   "id": "6d1b41d2-14fb-4a73-8a08-031a98d60b99",
   "metadata": {},
   "source": [
    "## Cosine Similarity"
   ]
  },
  {
   "cell_type": "code",
   "execution_count": 12,
   "id": "f0b96d33-df23-4df7-b53a-8c9cc7bbe7ef",
   "metadata": {},
   "outputs": [],
   "source": [
    "def cos_similarity(x, y, eps = 1e-8):\n",
    "    nx = x / np.sqrt(np.sum(x**2) + eps)\n",
    "    ny = y / np.sqrt(np.sum(y**2) + eps)\n",
    "    return np.dot(nx, ny)"
   ]
  },
  {
   "cell_type": "code",
   "execution_count": 13,
   "id": "3e7283db-8a7f-4d3a-a515-2b125dbdcb8c",
   "metadata": {},
   "outputs": [
    {
     "name": "stdout",
     "output_type": "stream",
     "text": [
      "['you', 'say', 'goodbye', 'and', 'i', 'say', 'hello', '.']\n",
      "0.7071067758832467\n",
      "[0 1 0 0 0 0 0]\n",
      "1\n"
     ]
    }
   ],
   "source": [
    "text = 'You say goodbye and I say hello.'\n",
    "corpus, word_to_id, id_to_word = preprocess(text)\n",
    "vocab_size = len(word_to_id)\n",
    "C = create_co_matrix(corpus, vocab_size)\n",
    "\n",
    "c0 = C[word_to_id['you']]\n",
    "c1 = C[word_to_id['i']]\n",
    "print(cos_similarity(c0, c1))\n",
    "print(c0)\n",
    "print(np.sum(c0 ** 2))"
   ]
  },
  {
   "cell_type": "code",
   "execution_count": 14,
   "id": "ae1262ce-d520-4a80-84db-d4d02b4f76e5",
   "metadata": {},
   "outputs": [],
   "source": [
    "def most_similar(query, word_to_id, id_to_word, word_matrix, top=5):\n",
    "    if query not in word_to_id:\n",
    "        print(f\"{query} can't not find\")\n",
    "        return\n",
    "    print(\"\\n[query]\" + query)\n",
    "    query_id = word_to_id[query]\n",
    "    query_vec = word_matrix[query_id]\n",
    "\n",
    "    vocab_size = len(id_to_word)\n",
    "    similarity = np.zeros(vocab_size)\n",
    "    for i in range(vocab_size):\n",
    "        similarity[i] = cos_similarity(word_matrix[i], query_vec)\n",
    "\n",
    "    count = 0\n",
    "    for i in (-1 * similarity).argsort():\n",
    "        if id_to_word[i] == query:\n",
    "            continue\n",
    "\n",
    "        print(f\"{id_to_word[i], similarity[i]}\")\n",
    "\n",
    "        count += 1\n",
    "\n",
    "        if count >= top:\n",
    "            return"
   ]
  },
  {
   "cell_type": "code",
   "execution_count": 15,
   "id": "ed6e9598-2466-431d-909a-2c7a2df5a0ea",
   "metadata": {},
   "outputs": [
    {
     "name": "stdout",
     "output_type": "stream",
     "text": [
      "['you', 'say', 'goodbye', 'and', 'i', 'say', 'hello', '.']\n",
      "\n",
      "[query]you\n",
      "('goodbye', 0.7071067758832467)\n",
      "('i', 0.7071067758832467)\n",
      "('hello', 0.7071067758832467)\n",
      "('say', 0.0)\n",
      "('and', 0.0)\n"
     ]
    }
   ],
   "source": [
    "text = 'You say goodbye and I say hello.'\n",
    "corpus, word_to_id, id_to_word = preprocess(text)\n",
    "vocab_size = len(word_to_id)\n",
    "C = create_co_matrix(corpus, vocab_size)\n",
    "\n",
    "most_similar('you', word_to_id, id_to_word, C, top=5)"
   ]
  },
  {
   "cell_type": "markdown",
   "id": "5ca56fba-2094-49cb-95f9-79149ac75a1c",
   "metadata": {},
   "source": [
    "## PPMI : Co-occurence problem Solution"
   ]
  },
  {
   "cell_type": "code",
   "execution_count": 16,
   "id": "aa18704d-9682-411c-82a6-f67c303c2217",
   "metadata": {},
   "outputs": [],
   "source": [
    "def ppmi(C, verbose=False, eps=1e-8):\n",
    "    M = np.zeros_like(C, dtype=np.float32)\n",
    "    N = np.sum(C)\n",
    "    S = np.sum(C, axis=0)\n",
    "\n",
    "    total = C.shape[0] * C.shape[1]\n",
    "    cnt = 0\n",
    "\n",
    "    for i in range(C.shape[0]):\n",
    "        for j in range(C.shape[1]):\n",
    "            pmi = np.log2(C[i, j] * N / S[j]*S[i] + eps)\n",
    "            M[i, j] = max(0, pmi)\n",
    "            if verbose:\n",
    "                cnt += 1\n",
    "                if cnt % (total//100) == 0:\n",
    "                    print(f\"{100*cnt/total} 완료\")\n",
    "\n",
    "    return M"
   ]
  },
  {
   "cell_type": "code",
   "execution_count": 17,
   "id": "33cda5b9-1f03-4b2d-935e-63314580fc8f",
   "metadata": {},
   "outputs": [
    {
     "name": "stdout",
     "output_type": "stream",
     "text": [
      "['you', 'say', 'goodbye', 'and', 'i', 'say', 'hello', '.']\n",
      "[[0 1 0 0 0 0 0]\n",
      " [1 0 1 0 1 1 0]\n",
      " [0 1 0 1 0 0 0]\n",
      " [0 0 1 0 1 0 0]\n",
      " [0 1 0 1 0 0 0]\n",
      " [0 1 0 0 0 0 1]\n",
      " [0 0 0 0 0 1 0]]\n",
      "----------------------------------------------------------------------------------------------------\n",
      "[[0.    1.807 0.    0.    0.    0.    0.   ]\n",
      " [5.807 0.    4.807 0.    4.807 4.807 0.   ]\n",
      " [0.    2.807 0.    3.807 0.    0.    0.   ]\n",
      " [0.    0.    3.807 0.    3.807 0.    0.   ]\n",
      " [0.    2.807 0.    3.807 0.    0.    0.   ]\n",
      " [0.    2.807 0.    0.    0.    0.    4.807]\n",
      " [0.    0.    0.    0.    0.    2.807 0.   ]]\n"
     ]
    }
   ],
   "source": [
    "text = 'You say goodbye and I say hello.'\n",
    "corpus, word_to_id, id_to_word = preprocess(text)\n",
    "vocab_size = len(word_to_id)\n",
    "C = create_co_matrix(corpus, vocab_size)\n",
    "W = ppmi(C)\n",
    "\n",
    "np.set_printoptions(precision=3)\n",
    "print(C)\n",
    "print(\"-\"*100)\n",
    "print(W)"
   ]
  },
  {
   "cell_type": "markdown",
   "id": "d0d881b2-7614-45d1-a824-8c08aceb2fde",
   "metadata": {},
   "source": [
    "#### PPMI's Problem <br> 1. 어휘 수 증가 -> 벡터의 차원 수 증가 <br> 2. 벡터 원소 대부분 0 == 대부분 중요하지 않은 정보"
   ]
  },
  {
   "cell_type": "markdown",
   "id": "f4852883-c177-4546-b30e-aa2cf21e0b49",
   "metadata": {},
   "source": [
    "#### Solution : Dimensionality Reduction"
   ]
  },
  {
   "cell_type": "markdown",
   "id": "8103ef0c-280c-4581-baa2-819086d33249",
   "metadata": {},
   "source": [
    "## SVD"
   ]
  },
  {
   "cell_type": "code",
   "execution_count": 22,
   "id": "e592b4fa-a19a-4b8d-bb5b-4d85e8934954",
   "metadata": {},
   "outputs": [
    {
     "data": {
      "text/plain": [
       "((7, 7), (7,), (7, 7))"
      ]
     },
     "execution_count": 22,
     "metadata": {},
     "output_type": "execute_result"
    }
   ],
   "source": [
    "import numpy as np\n",
    "import matplotlib.pyplot as plt\n",
    "\n",
    "text = 'You say goodbye and I say hello.'\n",
    "corpus, word_to_id, id_to_word = preprocess(text)\n",
    "vocab_size = len(id_to_word)\n",
    "C = create_co_matrix(corpus, vocab_size, window_size=1)\n",
    "W = ppmi(C)\n",
    "\n",
    "U, S, V = np.linalg.svd(W)\n",
    "U.shape, S.shape, V.shape"
   ]
  },
  {
   "cell_type": "code",
   "execution_count": 23,
   "id": "1af58d62-545a-4ec8-b410-0f21eec6a19f",
   "metadata": {},
   "outputs": [
    {
     "name": "stdout",
     "output_type": "stream",
     "text": [
      "[0 1 0 0 0 0 0]\n",
      "[0.    1.807 0.    0.    0.    0.    0.   ]\n",
      "[ 0.000e+00  1.748e-01  3.821e-02 -1.110e-16 -1.110e-16 -9.839e-01\n",
      "  6.621e-16]\n"
     ]
    }
   ],
   "source": [
    "print(C[0])\n",
    "print(W[0])\n",
    "print(U[0])"
   ]
  },
  {
   "cell_type": "code",
   "execution_count": 26,
   "id": "d5365e63-9044-4ffa-a442-c24ef37b23ea",
   "metadata": {
    "scrolled": true
   },
   "outputs": [
    {
     "data": {
      "image/png": "[encoded data removed]",
      "text/plain": [
       "<Figure size 640x480 with 1 Axes>"
      ]
     },
     "metadata": {},
     "output_type": "display_data"
    }
   ],
   "source": [
    "for word, word_id in word_to_id.items():\n",
    "    plt.annotate(word, (U[word_id, 0], U[word_id, 1]))\n",
    "\n",
    "plt.scatter(U[:,0], U[:, 1], alpha=0.5)\n",
    "plt.show()"
   ]
  },
  {
   "cell_type": "markdown",
   "id": "d6ccda07-d37c-4005-acb9-05d77737c0a2",
   "metadata": {},
   "source": [
    "## Using PTB Dataset"
   ]
  },
  {
   "cell_type": "code",
   "execution_count": 29,
   "id": "8c6cddc9-37e9-4e3d-bff2-534b8aa34d2d",
   "metadata": {},
   "outputs": [
    {
     "name": "stdout",
     "output_type": "stream",
     "text": [
      "929589\n",
      "aer\n",
      "banknote\n",
      "berlitz\n",
      "3856\n",
      "4428\n",
      "7426\n"
     ]
    }
   ],
   "source": [
    "import sys\n",
    "import ptb\n",
    "\n",
    "corpus, word_to_id, id_to_word = ptb.load_data('train')\n",
    "\n",
    "print(len(corpus))\n",
    "\n",
    "print(id_to_word[0])\n",
    "print(id_to_word[1])\n",
    "print(id_to_word[2])\n",
    "\n",
    "print(word_to_id['car'])\n",
    "print(word_to_id['happy'])\n",
    "print(word_to_id['lexus'])"
   ]
  },
  {
   "cell_type": "code",
   "execution_count": 30,
   "id": "31e15e99-ced2-47f1-ad4c-2270e0f4f6cc",
   "metadata": {},
   "outputs": [
    {
     "name": "stdout",
     "output_type": "stream",
     "text": [
      "Co-Occurence Operating...\n",
      "PPMI Operating...\n"
     ]
    },
    {
     "name": "stderr",
     "output_type": "stream",
     "text": [
      "C:\\Users\\kck\\AppData\\Local\\Temp\\ipykernel_21528\\3827501272.py:11: RuntimeWarning: overflow encountered in long_scalars\n",
      "  pmi = np.log2(C[i, j] * N / S[j]*S[i] + eps)\n",
      "C:\\Users\\kck\\AppData\\Local\\Temp\\ipykernel_21528\\3827501272.py:11: RuntimeWarning: invalid value encountered in log2\n",
      "  pmi = np.log2(C[i, j] * N / S[j]*S[i] + eps)\n"
     ]
    },
    {
     "name": "stdout",
     "output_type": "stream",
     "text": [
      "1.0 완료\n",
      "2.0 완료\n",
      "3.0 완료\n",
      "4.0 완료\n",
      "5.0 완료\n",
      "6.0 완료\n",
      "7.0 완료\n",
      "8.0 완료\n",
      "9.0 완료\n",
      "10.0 완료\n",
      "11.0 완료\n",
      "12.0 완료\n",
      "13.0 완료\n",
      "14.0 완료\n",
      "15.0 완료\n",
      "16.0 완료\n",
      "17.0 완료\n",
      "18.0 완료\n",
      "19.0 완료\n",
      "20.0 완료\n",
      "21.0 완료\n",
      "22.0 완료\n",
      "23.0 완료\n",
      "24.0 완료\n",
      "25.0 완료\n",
      "26.0 완료\n",
      "27.0 완료\n",
      "28.0 완료\n",
      "29.0 완료\n",
      "30.0 완료\n",
      "31.0 완료\n",
      "32.0 완료\n",
      "33.0 완료\n",
      "34.0 완료\n",
      "35.0 완료\n",
      "36.0 완료\n",
      "37.0 완료\n",
      "38.0 완료\n",
      "39.0 완료\n",
      "40.0 완료\n",
      "41.0 완료\n",
      "42.0 완료\n",
      "43.0 완료\n",
      "44.0 완료\n",
      "45.0 완료\n",
      "46.0 완료\n",
      "47.0 완료\n",
      "48.0 완료\n",
      "49.0 완료\n",
      "50.0 완료\n",
      "51.0 완료\n",
      "52.0 완료\n",
      "53.0 완료\n",
      "54.0 완료\n",
      "55.0 완료\n",
      "56.0 완료\n",
      "57.0 완료\n",
      "58.0 완료\n",
      "59.0 완료\n",
      "60.0 완료\n",
      "61.0 완료\n",
      "62.0 완료\n",
      "63.0 완료\n",
      "64.0 완료\n",
      "65.0 완료\n",
      "66.0 완료\n",
      "67.0 완료\n",
      "68.0 완료\n",
      "69.0 완료\n",
      "70.0 완료\n",
      "71.0 완료\n",
      "72.0 완료\n",
      "73.0 완료\n",
      "74.0 완료\n",
      "75.0 완료\n",
      "76.0 완료\n",
      "77.0 완료\n",
      "78.0 완료\n",
      "79.0 완료\n",
      "80.0 완료\n",
      "81.0 완료\n",
      "82.0 완료\n",
      "83.0 완료\n",
      "84.0 완료\n",
      "85.0 완료\n",
      "86.0 완료\n",
      "87.0 완료\n",
      "88.0 완료\n",
      "89.0 완료\n",
      "90.0 완료\n",
      "91.0 완료\n",
      "92.0 완료\n",
      "93.0 완료\n",
      "94.0 완료\n",
      "95.0 완료\n",
      "96.0 완료\n",
      "97.0 완료\n",
      "98.0 완료\n",
      "99.0 완료\n",
      "100.0 완료\n",
      "SVD Operating...\n",
      "\n",
      "[query]you\n",
      "(\"'ll\", 0.5519955158233643)\n",
      "('me', 0.5087558031082153)\n",
      "(\"'ve\", 0.49032852053642273)\n",
      "('going', 0.4876275062561035)\n",
      "(\"'d\", 0.45917049050331116)\n",
      "\n",
      "[query]year\n",
      "('next', 0.4590035676956177)\n",
      "('quarter', 0.4429309070110321)\n",
      "('last', 0.4336808919906616)\n",
      "('month', 0.3658406734466553)\n",
      "('sens.', 0.35628363490104675)\n",
      "\n",
      "[query]car\n",
      "('field', 0.622855544090271)\n",
      "('building', 0.5909005403518677)\n",
      "('auto', 0.583794891834259)\n",
      "('air', 0.5737124085426331)\n",
      "('sat', 0.5509873032569885)\n",
      "\n",
      "[query]lexus\n",
      "('bushel', 0.6440709829330444)\n",
      "('grows', 0.6263757944107056)\n",
      "('sedan', 0.6255143880844116)\n",
      "('sagging', 0.619174599647522)\n",
      "('cascade', 0.6155720353126526)\n"
     ]
    }
   ],
   "source": [
    "import numpy as np\n",
    "import ptb\n",
    "\n",
    "window_size = 2\n",
    "wordvec_size = 100\n",
    "\n",
    "corpus, word_to_id, id_to_word = ptb.load_data('train')\n",
    "vocab_size = len(word_to_id)\n",
    "print('Co-Occurence Operating...')\n",
    "C = create_co_matrix(corpus, vocab_size, window_size)\n",
    "print('PPMI Operating...')\n",
    "W = ppmi(C, verbose=True)\n",
    "\n",
    "print('SVD Operating...')\n",
    "try:\n",
    "    from sklearn.utils.extmath import randomized_svd\n",
    "    U, S, V = randomized_svd(W, n_components=wordvec_size, n_iters=5, random_state=None)\n",
    "\n",
    "except:\n",
    "    U, S, V = np.linalg.svd(W)\n",
    "\n",
    "word_vecs = U[:, :wordvec_size]\n",
    "\n",
    "queries = ['you', 'year', 'car', 'lexus']\n",
    "for query in queries:\n",
    "    most_similar(query, word_to_id, id_to_word, word_vecs, top=5)"
   ]
  }
 ],
 "metadata": {
  "kernelspec": {
   "display_name": "Python 3 (ipykernel)",
   "language": "python",
   "name": "python3"
  },
  "language_info": {
   "codemirror_mode": {
    "name": "ipython",
    "version": 3
   },
   "file_extension": ".py",
   "mimetype": "text/x-python",
   "name": "python",
   "nbconvert_exporter": "python",
   "pygments_lexer": "ipython3",
   "version": "3.9.21"
  }
 },
 "nbformat": 4,
 "nbformat_minor": 5
}
